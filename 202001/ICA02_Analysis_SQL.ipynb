{
 "cells": [
  {
   "cell_type": "markdown",
   "metadata": {},
   "source": [
    "# ICE02 Analysis_SQL"
   ]
  },
  {
   "cell_type": "markdown",
   "metadata": {},
   "source": [
    "To make cell into \"Code\" (executable) cell: click on cell and choose \"Code\" from upper drop-down box.\n",
    "   - To execute any cell: click on cell and then hit Ctl-Enter\n",
    "   - To comment out any LINE in a cell: click or highlight line and hit Ctl-/.  To un-comment, click and hit Ctl-/ again.\n",
    "   - To comment out any SECTION in a cell: highlight section and hit Ctl-/.  To un-comment, highlight and hit Ctl-/ again.\n",
    "\n",
    "To make cell into \"Markdown\" (documentation) cell: click on cell and choose \"Markdown\" from upper drop-down box.\n",
    "   - To edit any \"Markdown\" cell: double-click on cell: this will enable modification\n",
    "   - To format-for-display any \"Markdown\" cell being editted: execute cell (using Ctl-Enter). "
   ]
  },
  {
   "cell_type": "markdown",
   "metadata": {},
   "source": [
    "## 01 How to (pip) Install any needed Python packages\n",
    "<br>1. Open Anaconda Prompt with option: Run as administrator (if this is not allowed, try Open Anaconda Prompt without admin)\n",
    "<br>2. Type: pip install package_name and press Enter. For example, to install package graphviz you type: pip install graphviz at command prompt and press Enter"
   ]
  },
  {
   "cell_type": "code",
   "execution_count": 2,
   "metadata": {
    "collapsed": true
   },
   "outputs": [],
   "source": [
    "#packages for manipulating data\n",
    "import pandas as pd\n",
    "import numpy as np\n",
    "\n",
    "#package for connecting to SQL Server\n",
    "import pyodbc\n",
    "\n",
    "#setting up environment\n",
    "%matplotlib inline\n",
    "pd.set_option('display.max_columns',500 )\n",
    "import warnings\n",
    "warnings.filterwarnings('ignore')   #turn off warning"
   ]
  },
  {
   "cell_type": "markdown",
   "metadata": {},
   "source": [
    "# 02a (Optional) Read a csv-file into a dataframe (do either 2a or 2b)"
   ]
  },
  {
   "cell_type": "markdown",
   "metadata": {},
   "source": [
    "If you have a csv file of data that is preferable to a result-table from a SQL select command, then use the 2a technique here to read the csv into a dataframe: \n",
    "otherwise, use the 2b technique later in the notebook to read the SQL-result-table into the dataframe. "
   ]
  },
  {
   "cell_type": "markdown",
   "metadata": {},
   "source": [
    "In the code below, replace CCID with your UofA CCID.  Replace outdf.csv with the name of your csv file."
   ]
  },
  {
   "cell_type": "code",
   "execution_count": 3,
   "metadata": {},
   "outputs": [
    {
     "data": {
      "text/html": [
       "<div>\n",
       "<style>\n",
       "    .dataframe thead tr:only-child th {\n",
       "        text-align: right;\n",
       "    }\n",
       "\n",
       "    .dataframe thead th {\n",
       "        text-align: left;\n",
       "    }\n",
       "\n",
       "    .dataframe tbody tr th {\n",
       "        vertical-align: top;\n",
       "    }\n",
       "</style>\n",
       "<table border=\"1\" class=\"dataframe\">\n",
       "  <thead>\n",
       "    <tr style=\"text-align: right;\">\n",
       "      <th></th>\n",
       "      <th>CustomerKey</th>\n",
       "      <th>GeographyKey</th>\n",
       "      <th>Title</th>\n",
       "      <th>FirstName</th>\n",
       "      <th>MiddleName</th>\n",
       "      <th>LastName</th>\n",
       "      <th>NameStyle</th>\n",
       "      <th>BirthDate</th>\n",
       "      <th>MaritalStatus</th>\n",
       "      <th>Suffix</th>\n",
       "      <th>Gender</th>\n",
       "      <th>EmailAddress</th>\n",
       "      <th>YearlyIncome</th>\n",
       "      <th>TotalChildren</th>\n",
       "      <th>NumberChildrenAtHome</th>\n",
       "      <th>EnglishEducation</th>\n",
       "      <th>EnglishOccupation</th>\n",
       "      <th>HouseOwnerFlag</th>\n",
       "      <th>NumberCarsOwned</th>\n",
       "      <th>AddressLine1</th>\n",
       "      <th>AddressLine2</th>\n",
       "      <th>Phone</th>\n",
       "      <th>DateFirstPurchase</th>\n",
       "      <th>CommuteDistance</th>\n",
       "      <th>Region</th>\n",
       "      <th>Age</th>\n",
       "      <th>BikeBuyer</th>\n",
       "    </tr>\n",
       "  </thead>\n",
       "  <tbody>\n",
       "    <tr>\n",
       "      <th>0</th>\n",
       "      <td>22576</td>\n",
       "      <td>11</td>\n",
       "      <td>NaN</td>\n",
       "      <td>Tony</td>\n",
       "      <td>L</td>\n",
       "      <td>Xu</td>\n",
       "      <td>0</td>\n",
       "      <td>1980-12-24</td>\n",
       "      <td>S</td>\n",
       "      <td>NaN</td>\n",
       "      <td>M</td>\n",
       "      <td>tony8@adventure-works.com</td>\n",
       "      <td>20000.0</td>\n",
       "      <td>0</td>\n",
       "      <td>0</td>\n",
       "      <td>Bachelors</td>\n",
       "      <td>Clerical</td>\n",
       "      <td>0</td>\n",
       "      <td>0</td>\n",
       "      <td>8489 Barbie Dr.</td>\n",
       "      <td>NaN</td>\n",
       "      <td>1 (11) 500 555-0154</td>\n",
       "      <td>2006-11-02</td>\n",
       "      <td>0-1 Miles</td>\n",
       "      <td>Pacific</td>\n",
       "      <td>36</td>\n",
       "      <td>1</td>\n",
       "    </tr>\n",
       "    <tr>\n",
       "      <th>1</th>\n",
       "      <td>22577</td>\n",
       "      <td>13</td>\n",
       "      <td>NaN</td>\n",
       "      <td>Bryant</td>\n",
       "      <td>S</td>\n",
       "      <td>Sai</td>\n",
       "      <td>0</td>\n",
       "      <td>1980-06-02</td>\n",
       "      <td>M</td>\n",
       "      <td>NaN</td>\n",
       "      <td>M</td>\n",
       "      <td>bryant6@adventure-works.com</td>\n",
       "      <td>20000.0</td>\n",
       "      <td>0</td>\n",
       "      <td>0</td>\n",
       "      <td>Bachelors</td>\n",
       "      <td>Clerical</td>\n",
       "      <td>1</td>\n",
       "      <td>0</td>\n",
       "      <td>8500 Byers Rd.</td>\n",
       "      <td>NaN</td>\n",
       "      <td>1 (11) 500 555-0180</td>\n",
       "      <td>2006-11-30</td>\n",
       "      <td>0-1 Miles</td>\n",
       "      <td>Pacific</td>\n",
       "      <td>37</td>\n",
       "      <td>1</td>\n",
       "    </tr>\n",
       "    <tr>\n",
       "      <th>2</th>\n",
       "      <td>22578</td>\n",
       "      <td>37</td>\n",
       "      <td>NaN</td>\n",
       "      <td>Juan</td>\n",
       "      <td>P</td>\n",
       "      <td>Vazquez</td>\n",
       "      <td>0</td>\n",
       "      <td>1977-10-12</td>\n",
       "      <td>S</td>\n",
       "      <td>NaN</td>\n",
       "      <td>M</td>\n",
       "      <td>juan3@adventure-works.com</td>\n",
       "      <td>10000.0</td>\n",
       "      <td>0</td>\n",
       "      <td>0</td>\n",
       "      <td>High School</td>\n",
       "      <td>Manual</td>\n",
       "      <td>0</td>\n",
       "      <td>2</td>\n",
       "      <td>2736 Scottsdale Rd</td>\n",
       "      <td>NaN</td>\n",
       "      <td>1 (11) 500 555-0182</td>\n",
       "      <td>2006-11-10</td>\n",
       "      <td>0-1 Miles</td>\n",
       "      <td>Pacific</td>\n",
       "      <td>39</td>\n",
       "      <td>1</td>\n",
       "    </tr>\n",
       "    <tr>\n",
       "      <th>3</th>\n",
       "      <td>22579</td>\n",
       "      <td>13</td>\n",
       "      <td>NaN</td>\n",
       "      <td>Kara</td>\n",
       "      <td>NaN</td>\n",
       "      <td>Lal</td>\n",
       "      <td>0</td>\n",
       "      <td>1976-04-17</td>\n",
       "      <td>S</td>\n",
       "      <td>NaN</td>\n",
       "      <td>F</td>\n",
       "      <td>kara9@adventure-works.com</td>\n",
       "      <td>10000.0</td>\n",
       "      <td>1</td>\n",
       "      <td>1</td>\n",
       "      <td>High School</td>\n",
       "      <td>Manual</td>\n",
       "      <td>0</td>\n",
       "      <td>0</td>\n",
       "      <td>7340 Pine Creek Way</td>\n",
       "      <td>NaN</td>\n",
       "      <td>1 (11) 500 555-0174</td>\n",
       "      <td>2006-11-17</td>\n",
       "      <td>1-2 Miles</td>\n",
       "      <td>Pacific</td>\n",
       "      <td>41</td>\n",
       "      <td>1</td>\n",
       "    </tr>\n",
       "    <tr>\n",
       "      <th>4</th>\n",
       "      <td>22580</td>\n",
       "      <td>23</td>\n",
       "      <td>NaN</td>\n",
       "      <td>Alexis</td>\n",
       "      <td>NaN</td>\n",
       "      <td>Long</td>\n",
       "      <td>0</td>\n",
       "      <td>1979-04-07</td>\n",
       "      <td>S</td>\n",
       "      <td>NaN</td>\n",
       "      <td>F</td>\n",
       "      <td>alexis32@adventure-works.com</td>\n",
       "      <td>10000.0</td>\n",
       "      <td>1</td>\n",
       "      <td>1</td>\n",
       "      <td>High School</td>\n",
       "      <td>Manual</td>\n",
       "      <td>0</td>\n",
       "      <td>0</td>\n",
       "      <td>3376 Jacaranda Dr.</td>\n",
       "      <td>NaN</td>\n",
       "      <td>1 (11) 500 555-0174</td>\n",
       "      <td>2006-11-03</td>\n",
       "      <td>1-2 Miles</td>\n",
       "      <td>Pacific</td>\n",
       "      <td>38</td>\n",
       "      <td>1</td>\n",
       "    </tr>\n",
       "    <tr>\n",
       "      <th>5</th>\n",
       "      <td>22581</td>\n",
       "      <td>19</td>\n",
       "      <td>NaN</td>\n",
       "      <td>Theresa</td>\n",
       "      <td>F</td>\n",
       "      <td>Vazquez</td>\n",
       "      <td>0</td>\n",
       "      <td>1979-08-20</td>\n",
       "      <td>M</td>\n",
       "      <td>NaN</td>\n",
       "      <td>F</td>\n",
       "      <td>theresa10@adventure-works.com</td>\n",
       "      <td>20000.0</td>\n",
       "      <td>0</td>\n",
       "      <td>0</td>\n",
       "      <td>Bachelors</td>\n",
       "      <td>Clerical</td>\n",
       "      <td>0</td>\n",
       "      <td>0</td>\n",
       "      <td>5227 Sutton Circle</td>\n",
       "      <td>NaN</td>\n",
       "      <td>1 (11) 500 555-0116</td>\n",
       "      <td>2006-11-11</td>\n",
       "      <td>0-1 Miles</td>\n",
       "      <td>Pacific</td>\n",
       "      <td>38</td>\n",
       "      <td>1</td>\n",
       "    </tr>\n",
       "    <tr>\n",
       "      <th>6</th>\n",
       "      <td>22582</td>\n",
       "      <td>27</td>\n",
       "      <td>NaN</td>\n",
       "      <td>Evelyn</td>\n",
       "      <td>D</td>\n",
       "      <td>Madan</td>\n",
       "      <td>0</td>\n",
       "      <td>1979-11-17</td>\n",
       "      <td>S</td>\n",
       "      <td>NaN</td>\n",
       "      <td>F</td>\n",
       "      <td>evelyn8@adventure-works.com</td>\n",
       "      <td>20000.0</td>\n",
       "      <td>0</td>\n",
       "      <td>0</td>\n",
       "      <td>Bachelors</td>\n",
       "      <td>Clerical</td>\n",
       "      <td>0</td>\n",
       "      <td>0</td>\n",
       "      <td>8162 Zacatecas</td>\n",
       "      <td>NaN</td>\n",
       "      <td>1 (11) 500 555-0137</td>\n",
       "      <td>2006-11-07</td>\n",
       "      <td>0-1 Miles</td>\n",
       "      <td>Pacific</td>\n",
       "      <td>37</td>\n",
       "      <td>1</td>\n",
       "    </tr>\n",
       "    <tr>\n",
       "      <th>7</th>\n",
       "      <td>22583</td>\n",
       "      <td>25</td>\n",
       "      <td>NaN</td>\n",
       "      <td>Troy</td>\n",
       "      <td>R</td>\n",
       "      <td>Sara</td>\n",
       "      <td>0</td>\n",
       "      <td>1977-08-12</td>\n",
       "      <td>S</td>\n",
       "      <td>NaN</td>\n",
       "      <td>M</td>\n",
       "      <td>troy11@adventure-works.com</td>\n",
       "      <td>20000.0</td>\n",
       "      <td>0</td>\n",
       "      <td>0</td>\n",
       "      <td>Partial College</td>\n",
       "      <td>Manual</td>\n",
       "      <td>1</td>\n",
       "      <td>0</td>\n",
       "      <td>1002 N. Spoonwood Court</td>\n",
       "      <td>NaN</td>\n",
       "      <td>1 (11) 500 555-0139</td>\n",
       "      <td>2006-11-16</td>\n",
       "      <td>1-2 Miles</td>\n",
       "      <td>Pacific</td>\n",
       "      <td>40</td>\n",
       "      <td>1</td>\n",
       "    </tr>\n",
       "  </tbody>\n",
       "</table>\n",
       "</div>"
      ],
      "text/plain": [
       "   CustomerKey  GeographyKey Title FirstName MiddleName LastName  NameStyle  \\\n",
       "0        22576            11   NaN      Tony          L       Xu          0   \n",
       "1        22577            13   NaN    Bryant          S      Sai          0   \n",
       "2        22578            37   NaN      Juan          P  Vazquez          0   \n",
       "3        22579            13   NaN      Kara        NaN      Lal          0   \n",
       "4        22580            23   NaN    Alexis        NaN     Long          0   \n",
       "5        22581            19   NaN   Theresa          F  Vazquez          0   \n",
       "6        22582            27   NaN    Evelyn          D    Madan          0   \n",
       "7        22583            25   NaN      Troy          R     Sara          0   \n",
       "\n",
       "    BirthDate MaritalStatus Suffix Gender                   EmailAddress  \\\n",
       "0  1980-12-24             S    NaN      M      tony8@adventure-works.com   \n",
       "1  1980-06-02             M    NaN      M    bryant6@adventure-works.com   \n",
       "2  1977-10-12             S    NaN      M      juan3@adventure-works.com   \n",
       "3  1976-04-17             S    NaN      F      kara9@adventure-works.com   \n",
       "4  1979-04-07             S    NaN      F   alexis32@adventure-works.com   \n",
       "5  1979-08-20             M    NaN      F  theresa10@adventure-works.com   \n",
       "6  1979-11-17             S    NaN      F    evelyn8@adventure-works.com   \n",
       "7  1977-08-12             S    NaN      M     troy11@adventure-works.com   \n",
       "\n",
       "   YearlyIncome  TotalChildren  NumberChildrenAtHome EnglishEducation  \\\n",
       "0       20000.0              0                     0        Bachelors   \n",
       "1       20000.0              0                     0        Bachelors   \n",
       "2       10000.0              0                     0      High School   \n",
       "3       10000.0              1                     1      High School   \n",
       "4       10000.0              1                     1      High School   \n",
       "5       20000.0              0                     0        Bachelors   \n",
       "6       20000.0              0                     0        Bachelors   \n",
       "7       20000.0              0                     0  Partial College   \n",
       "\n",
       "  EnglishOccupation  HouseOwnerFlag  NumberCarsOwned             AddressLine1  \\\n",
       "0          Clerical               0                0          8489 Barbie Dr.   \n",
       "1          Clerical               1                0           8500 Byers Rd.   \n",
       "2            Manual               0                2       2736 Scottsdale Rd   \n",
       "3            Manual               0                0      7340 Pine Creek Way   \n",
       "4            Manual               0                0       3376 Jacaranda Dr.   \n",
       "5          Clerical               0                0       5227 Sutton Circle   \n",
       "6          Clerical               0                0           8162 Zacatecas   \n",
       "7            Manual               1                0  1002 N. Spoonwood Court   \n",
       "\n",
       "  AddressLine2                Phone DateFirstPurchase CommuteDistance  \\\n",
       "0          NaN  1 (11) 500 555-0154        2006-11-02       0-1 Miles   \n",
       "1          NaN  1 (11) 500 555-0180        2006-11-30       0-1 Miles   \n",
       "2          NaN  1 (11) 500 555-0182        2006-11-10       0-1 Miles   \n",
       "3          NaN  1 (11) 500 555-0174        2006-11-17       1-2 Miles   \n",
       "4          NaN  1 (11) 500 555-0174        2006-11-03       1-2 Miles   \n",
       "5          NaN  1 (11) 500 555-0116        2006-11-11       0-1 Miles   \n",
       "6          NaN  1 (11) 500 555-0137        2006-11-07       0-1 Miles   \n",
       "7          NaN  1 (11) 500 555-0139        2006-11-16       1-2 Miles   \n",
       "\n",
       "    Region  Age  BikeBuyer  \n",
       "0  Pacific   36          1  \n",
       "1  Pacific   37          1  \n",
       "2  Pacific   39          1  \n",
       "3  Pacific   41          1  \n",
       "4  Pacific   38          1  \n",
       "5  Pacific   38          1  \n",
       "6  Pacific   37          1  \n",
       "7  Pacific   40          1  "
      ]
     },
     "execution_count": 3,
     "metadata": {},
     "output_type": "execute_result"
    }
   ],
   "source": [
    "df = pd.read_csv(r'C:\\users\\vdavis\\vTargetMail_ICA04a.csv', encoding='utf-8') \n",
    "df.head(8)"
   ]
  },
  {
   "cell_type": "markdown",
   "metadata": {},
   "source": [
    "# 02b (Optional) Connect to SQL Server and select data (do either 2a or 2b)"
   ]
  },
  {
   "cell_type": "markdown",
   "metadata": {},
   "source": [
    "Following code lines are used to:\n",
    "<br>1) Declare a connection spec, including:\n",
    "        - Server: MyServerURL\\MyDBMSInstanceNameNumber\n",
    "        - database: AdventureworksDW2012\n",
    "        - user account:\n",
    "            - UID: MyLogin\n",
    "            - PWD: MyPassword\n",
    "2) Declare a query to select all records from vTargetMail tabel: <i>'SELECT * from vTargetMail'</i>\n",
    "<br>3) Call the function <i>'read_sql'</i> to execute the query and store return result in a dataframe <b><i>df</i></b>\n",
    "<br>4) Display first 8 rows in the datafame <b><i>df</i></b>"
   ]
  },
  {
   "cell_type": "code",
   "execution_count": 5,
   "metadata": {
    "collapsed": true
   },
   "outputs": [],
   "source": [
    "sql_conn = pyodbc.connect('''DRIVER={ODBC Driver 13 for SQL Server};\n",
    "                        SERVER= MyServerURL\\MyDBMSInstanceNameNumber;\n",
    "                        DATABASE=AdventureworksDW2012;\n",
    "                        UID=MyLogin;\n",
    "                        PWD=MyPassword''')\n",
    "query = 'SELECT * from vTargetMail'\n",
    "df = pd.read_sql(query, sql_conn)\n",
    "df.head(8)"
   ]
  },
  {
   "cell_type": "markdown",
   "metadata": {},
   "source": [
    "# 3 Metadata of a dataframe"
   ]
  },
  {
   "cell_type": "markdown",
   "metadata": {},
   "source": [
    "Pandas <b><i>dataframe.describe(include = 'all')</i></b> is a function that generates descriptive statistics of data in a dataframe. \n",
    "<br>- For numeric data, the result’s index will include count, mean, std, min, max as well as lower, 50 and upper percentiles. By default the lower percentile is 25 and the upper percentile is 75. The 50 percentile is the same as the median.\n",
    "<br> - For object data (e.g. strings or timestamps), the result’s index will include count, unique, top, and freq. The top is the most common value. The freq is the most common value’s frequency. Timestamps also include the first and last items."
   ]
  },
  {
   "cell_type": "code",
   "execution_count": 10,
   "metadata": {
    "collapsed": true
   },
   "outputs": [],
   "source": [
    "df.describe(include = 'all')"
   ]
  },
  {
   "cell_type": "markdown",
   "metadata": {},
   "source": [
    "If you only want to see descriptive statistics for NUMERIC columns in the dataframe, remove option <i>include = 'all'</i> when calling the function (as shown below)"
   ]
  },
  {
   "cell_type": "code",
   "execution_count": 12,
   "metadata": {
    "collapsed": true
   },
   "outputs": [],
   "source": [
    "df.describe()"
   ]
  },
  {
   "cell_type": "markdown",
   "metadata": {},
   "source": [
    "# 4. Classic Relational Operators on Tables and Dataframes"
   ]
  },
  {
   "cell_type": "markdown",
   "metadata": {},
   "source": [
    "## 4.01 Projection (choose columns): in both SQL and Python"
   ]
  },
  {
   "cell_type": "markdown",
   "metadata": {},
   "source": [
    "SQL code that chooses columns (Projection) is shown below:"
   ]
  },
  {
   "cell_type": "code",
   "execution_count": 9,
   "metadata": {
    "collapsed": true
   },
   "outputs": [],
   "source": [
    "sqlQuery = \"\"\"SELECT CustomerKey, FirstName, MiddleName, LastName, MaritalStatus, YearlyIncome\n",
    "                FROM vTargetMail\"\"\"\n",
    "Df_SQL_Project = pd.read_sql(sqlQuery, sql_conn)\n",
    "Df_SQL_Project.head(8)"
   ]
  },
  {
   "cell_type": "markdown",
   "metadata": {},
   "source": [
    "In Python: Projection is done by an operator that returns a new dataframe by selecting certain columns (all rows) from an old dataframe"
   ]
  },
  {
   "cell_type": "code",
   "execution_count": 4,
   "metadata": {},
   "outputs": [
    {
     "data": {
      "text/html": [
       "<div>\n",
       "<style>\n",
       "    .dataframe thead tr:only-child th {\n",
       "        text-align: right;\n",
       "    }\n",
       "\n",
       "    .dataframe thead th {\n",
       "        text-align: left;\n",
       "    }\n",
       "\n",
       "    .dataframe tbody tr th {\n",
       "        vertical-align: top;\n",
       "    }\n",
       "</style>\n",
       "<table border=\"1\" class=\"dataframe\">\n",
       "  <thead>\n",
       "    <tr style=\"text-align: right;\">\n",
       "      <th></th>\n",
       "      <th>CustomerKey</th>\n",
       "      <th>FirstName</th>\n",
       "      <th>MiddleName</th>\n",
       "      <th>LastName</th>\n",
       "      <th>MaritalStatus</th>\n",
       "      <th>YearlyIncome</th>\n",
       "    </tr>\n",
       "  </thead>\n",
       "  <tbody>\n",
       "    <tr>\n",
       "      <th>0</th>\n",
       "      <td>22576</td>\n",
       "      <td>Tony</td>\n",
       "      <td>L</td>\n",
       "      <td>Xu</td>\n",
       "      <td>S</td>\n",
       "      <td>20000.0</td>\n",
       "    </tr>\n",
       "    <tr>\n",
       "      <th>1</th>\n",
       "      <td>22577</td>\n",
       "      <td>Bryant</td>\n",
       "      <td>S</td>\n",
       "      <td>Sai</td>\n",
       "      <td>M</td>\n",
       "      <td>20000.0</td>\n",
       "    </tr>\n",
       "    <tr>\n",
       "      <th>2</th>\n",
       "      <td>22578</td>\n",
       "      <td>Juan</td>\n",
       "      <td>P</td>\n",
       "      <td>Vazquez</td>\n",
       "      <td>S</td>\n",
       "      <td>10000.0</td>\n",
       "    </tr>\n",
       "    <tr>\n",
       "      <th>3</th>\n",
       "      <td>22579</td>\n",
       "      <td>Kara</td>\n",
       "      <td>NaN</td>\n",
       "      <td>Lal</td>\n",
       "      <td>S</td>\n",
       "      <td>10000.0</td>\n",
       "    </tr>\n",
       "    <tr>\n",
       "      <th>4</th>\n",
       "      <td>22580</td>\n",
       "      <td>Alexis</td>\n",
       "      <td>NaN</td>\n",
       "      <td>Long</td>\n",
       "      <td>S</td>\n",
       "      <td>10000.0</td>\n",
       "    </tr>\n",
       "    <tr>\n",
       "      <th>5</th>\n",
       "      <td>22581</td>\n",
       "      <td>Theresa</td>\n",
       "      <td>F</td>\n",
       "      <td>Vazquez</td>\n",
       "      <td>M</td>\n",
       "      <td>20000.0</td>\n",
       "    </tr>\n",
       "    <tr>\n",
       "      <th>6</th>\n",
       "      <td>22582</td>\n",
       "      <td>Evelyn</td>\n",
       "      <td>D</td>\n",
       "      <td>Madan</td>\n",
       "      <td>S</td>\n",
       "      <td>20000.0</td>\n",
       "    </tr>\n",
       "    <tr>\n",
       "      <th>7</th>\n",
       "      <td>22583</td>\n",
       "      <td>Troy</td>\n",
       "      <td>R</td>\n",
       "      <td>Sara</td>\n",
       "      <td>S</td>\n",
       "      <td>20000.0</td>\n",
       "    </tr>\n",
       "  </tbody>\n",
       "</table>\n",
       "</div>"
      ],
      "text/plain": [
       "   CustomerKey FirstName MiddleName LastName MaritalStatus  YearlyIncome\n",
       "0        22576      Tony          L       Xu             S       20000.0\n",
       "1        22577    Bryant          S      Sai             M       20000.0\n",
       "2        22578      Juan          P  Vazquez             S       10000.0\n",
       "3        22579      Kara        NaN      Lal             S       10000.0\n",
       "4        22580    Alexis        NaN     Long             S       10000.0\n",
       "5        22581   Theresa          F  Vazquez             M       20000.0\n",
       "6        22582    Evelyn          D    Madan             S       20000.0\n",
       "7        22583      Troy          R     Sara             S       20000.0"
      ]
     },
     "execution_count": 4,
     "metadata": {},
     "output_type": "execute_result"
    }
   ],
   "source": [
    "wantedColumns = ['CustomerKey','FirstName','MiddleName','LastName','MaritalStatus','YearlyIncome']\n",
    "Df_ProjectSixColumns = df[wantedColumns]\n",
    "Df_ProjectSixColumns.head(8)"
   ]
  },
  {
   "cell_type": "markdown",
   "metadata": {},
   "source": [
    "## 4.02 Selection (rows) & Projection (columns): in both SQL and Python"
   ]
  },
  {
   "cell_type": "markdown",
   "metadata": {},
   "source": [
    "SQL code that chooses rows (Selection) and chooses columns (Projection) is shown below:"
   ]
  },
  {
   "cell_type": "code",
   "execution_count": 8,
   "metadata": {
    "collapsed": true
   },
   "outputs": [],
   "source": [
    "sqlQuery = \"\"\"SELECT CustomerKey, FirstName, MiddleName, LastName, MaritalStatus, YearlyIncome\n",
    "                FROM vTargetMail\n",
    "                WHERE MaritalStatus = 'M' and YearlyIncome > 20000\"\"\"\n",
    "Df_SQL_ProjectSelect = pd.read_sql(sqlQuery, sql_conn)\n",
    "Df_SQL_ProjectSelect.head(8)"
   ]
  },
  {
   "cell_type": "markdown",
   "metadata": {},
   "source": [
    "In Python sample below: Selection is done by an operator that returns a new dataframe by including rows from an old dataframe (2nd line below)"
   ]
  },
  {
   "cell_type": "code",
   "execution_count": 5,
   "metadata": {},
   "outputs": [
    {
     "data": {
      "text/html": [
       "<div>\n",
       "<style>\n",
       "    .dataframe thead tr:only-child th {\n",
       "        text-align: right;\n",
       "    }\n",
       "\n",
       "    .dataframe thead th {\n",
       "        text-align: left;\n",
       "    }\n",
       "\n",
       "    .dataframe tbody tr th {\n",
       "        vertical-align: top;\n",
       "    }\n",
       "</style>\n",
       "<table border=\"1\" class=\"dataframe\">\n",
       "  <thead>\n",
       "    <tr style=\"text-align: right;\">\n",
       "      <th></th>\n",
       "      <th>CustomerKey</th>\n",
       "      <th>FirstName</th>\n",
       "      <th>MiddleName</th>\n",
       "      <th>LastName</th>\n",
       "      <th>MaritalStatus</th>\n",
       "      <th>YearlyIncome</th>\n",
       "    </tr>\n",
       "  </thead>\n",
       "  <tbody>\n",
       "    <tr>\n",
       "      <th>10</th>\n",
       "      <td>22586</td>\n",
       "      <td>Derek</td>\n",
       "      <td>T</td>\n",
       "      <td>Shen</td>\n",
       "      <td>M</td>\n",
       "      <td>30000.0</td>\n",
       "    </tr>\n",
       "    <tr>\n",
       "      <th>18</th>\n",
       "      <td>22594</td>\n",
       "      <td>Gabriella</td>\n",
       "      <td>S</td>\n",
       "      <td>James</td>\n",
       "      <td>M</td>\n",
       "      <td>30000.0</td>\n",
       "    </tr>\n",
       "    <tr>\n",
       "      <th>19</th>\n",
       "      <td>22595</td>\n",
       "      <td>Nicolas</td>\n",
       "      <td>W</td>\n",
       "      <td>Xie</td>\n",
       "      <td>M</td>\n",
       "      <td>40000.0</td>\n",
       "    </tr>\n",
       "    <tr>\n",
       "      <th>20</th>\n",
       "      <td>22596</td>\n",
       "      <td>Omar</td>\n",
       "      <td>A</td>\n",
       "      <td>Xu</td>\n",
       "      <td>M</td>\n",
       "      <td>30000.0</td>\n",
       "    </tr>\n",
       "    <tr>\n",
       "      <th>21</th>\n",
       "      <td>22597</td>\n",
       "      <td>Rachael</td>\n",
       "      <td>V</td>\n",
       "      <td>Chandra</td>\n",
       "      <td>M</td>\n",
       "      <td>30000.0</td>\n",
       "    </tr>\n",
       "    <tr>\n",
       "      <th>23</th>\n",
       "      <td>22599</td>\n",
       "      <td>Philip</td>\n",
       "      <td>NaN</td>\n",
       "      <td>Gill</td>\n",
       "      <td>M</td>\n",
       "      <td>40000.0</td>\n",
       "    </tr>\n",
       "    <tr>\n",
       "      <th>25</th>\n",
       "      <td>22601</td>\n",
       "      <td>Aimee</td>\n",
       "      <td>NaN</td>\n",
       "      <td>Gao</td>\n",
       "      <td>M</td>\n",
       "      <td>30000.0</td>\n",
       "    </tr>\n",
       "    <tr>\n",
       "      <th>33</th>\n",
       "      <td>22609</td>\n",
       "      <td>Clarence</td>\n",
       "      <td>L</td>\n",
       "      <td>Cai</td>\n",
       "      <td>M</td>\n",
       "      <td>30000.0</td>\n",
       "    </tr>\n",
       "  </tbody>\n",
       "</table>\n",
       "</div>"
      ],
      "text/plain": [
       "    CustomerKey  FirstName MiddleName LastName MaritalStatus  YearlyIncome\n",
       "10        22586      Derek          T     Shen             M       30000.0\n",
       "18        22594  Gabriella          S    James             M       30000.0\n",
       "19        22595    Nicolas          W      Xie             M       40000.0\n",
       "20        22596       Omar          A       Xu             M       30000.0\n",
       "21        22597    Rachael          V  Chandra             M       30000.0\n",
       "23        22599     Philip        NaN     Gill             M       40000.0\n",
       "25        22601      Aimee        NaN      Gao             M       30000.0\n",
       "33        22609   Clarence          L      Cai             M       30000.0"
      ]
     },
     "execution_count": 5,
     "metadata": {},
     "output_type": "execute_result"
    }
   ],
   "source": [
    "wantedColumns = ['CustomerKey','FirstName','MiddleName','LastName','MaritalStatus','YearlyIncome']\n",
    "Df_SelectRows_IncMari = df[(df.YearlyIncome>20000) & (df.MaritalStatus == 'M')][wantedColumns]\n",
    "Df_SelectRows_IncMari.head(8)"
   ]
  },
  {
   "cell_type": "markdown",
   "metadata": {},
   "source": [
    "## ------------------------------------------------------------------------------------------------"
   ]
  },
  {
   "cell_type": "markdown",
   "metadata": {},
   "source": [
    "SQL code with Alternative Select by \"partial-match\" string condition (with Project of seven columns):"
   ]
  },
  {
   "cell_type": "code",
   "execution_count": 13,
   "metadata": {
    "collapsed": true
   },
   "outputs": [],
   "source": [
    "sqlQuery = \"\"\"SELECT CustomerKey, FirstName, MiddleName, LastName, MaritalStatus, YearlyIncome, EnglishEducation\n",
    "                FROM vTargetMail\n",
    "                WHERE EnglishEducation like '%i%'\"\"\"\n",
    "Df_SQL_ProjectSelectLetterI = pd.read_sql(sqlQuery, sql_conn)\n",
    "Df_SQL_ProjectSelectLetterI.head(8)"
   ]
  },
  {
   "cell_type": "markdown",
   "metadata": {},
   "source": [
    "In Python sample below: Alternative Select by \"partial-match\" string condition (with Project of seven columns)"
   ]
  },
  {
   "cell_type": "code",
   "execution_count": 6,
   "metadata": {},
   "outputs": [
    {
     "data": {
      "text/html": [
       "<div>\n",
       "<style>\n",
       "    .dataframe thead tr:only-child th {\n",
       "        text-align: right;\n",
       "    }\n",
       "\n",
       "    .dataframe thead th {\n",
       "        text-align: left;\n",
       "    }\n",
       "\n",
       "    .dataframe tbody tr th {\n",
       "        vertical-align: top;\n",
       "    }\n",
       "</style>\n",
       "<table border=\"1\" class=\"dataframe\">\n",
       "  <thead>\n",
       "    <tr style=\"text-align: right;\">\n",
       "      <th></th>\n",
       "      <th>CustomerKey</th>\n",
       "      <th>FirstName</th>\n",
       "      <th>MiddleName</th>\n",
       "      <th>LastName</th>\n",
       "      <th>MaritalStatus</th>\n",
       "      <th>YearlyIncome</th>\n",
       "      <th>EnglishEducation</th>\n",
       "    </tr>\n",
       "  </thead>\n",
       "  <tbody>\n",
       "    <tr>\n",
       "      <th>2</th>\n",
       "      <td>22578</td>\n",
       "      <td>Juan</td>\n",
       "      <td>P</td>\n",
       "      <td>Vazquez</td>\n",
       "      <td>S</td>\n",
       "      <td>10000.0</td>\n",
       "      <td>High School</td>\n",
       "    </tr>\n",
       "    <tr>\n",
       "      <th>3</th>\n",
       "      <td>22579</td>\n",
       "      <td>Kara</td>\n",
       "      <td>NaN</td>\n",
       "      <td>Lal</td>\n",
       "      <td>S</td>\n",
       "      <td>10000.0</td>\n",
       "      <td>High School</td>\n",
       "    </tr>\n",
       "    <tr>\n",
       "      <th>4</th>\n",
       "      <td>22580</td>\n",
       "      <td>Alexis</td>\n",
       "      <td>NaN</td>\n",
       "      <td>Long</td>\n",
       "      <td>S</td>\n",
       "      <td>10000.0</td>\n",
       "      <td>High School</td>\n",
       "    </tr>\n",
       "    <tr>\n",
       "      <th>7</th>\n",
       "      <td>22583</td>\n",
       "      <td>Troy</td>\n",
       "      <td>R</td>\n",
       "      <td>Sara</td>\n",
       "      <td>S</td>\n",
       "      <td>20000.0</td>\n",
       "      <td>Partial College</td>\n",
       "    </tr>\n",
       "    <tr>\n",
       "      <th>8</th>\n",
       "      <td>22584</td>\n",
       "      <td>Meagan</td>\n",
       "      <td>NaN</td>\n",
       "      <td>Lopez</td>\n",
       "      <td>S</td>\n",
       "      <td>20000.0</td>\n",
       "      <td>Partial College</td>\n",
       "    </tr>\n",
       "    <tr>\n",
       "      <th>11</th>\n",
       "      <td>22587</td>\n",
       "      <td>Gina</td>\n",
       "      <td>C</td>\n",
       "      <td>Alonso</td>\n",
       "      <td>S</td>\n",
       "      <td>20000.0</td>\n",
       "      <td>Partial College</td>\n",
       "    </tr>\n",
       "    <tr>\n",
       "      <th>12</th>\n",
       "      <td>22588</td>\n",
       "      <td>Teresa</td>\n",
       "      <td>D</td>\n",
       "      <td>Martin</td>\n",
       "      <td>S</td>\n",
       "      <td>20000.0</td>\n",
       "      <td>Partial College</td>\n",
       "    </tr>\n",
       "    <tr>\n",
       "      <th>13</th>\n",
       "      <td>22589</td>\n",
       "      <td>Cynthia</td>\n",
       "      <td>NaN</td>\n",
       "      <td>Suri</td>\n",
       "      <td>S</td>\n",
       "      <td>20000.0</td>\n",
       "      <td>Partial College</td>\n",
       "    </tr>\n",
       "  </tbody>\n",
       "</table>\n",
       "</div>"
      ],
      "text/plain": [
       "    CustomerKey FirstName MiddleName LastName MaritalStatus  YearlyIncome  \\\n",
       "2         22578      Juan          P  Vazquez             S       10000.0   \n",
       "3         22579      Kara        NaN      Lal             S       10000.0   \n",
       "4         22580    Alexis        NaN     Long             S       10000.0   \n",
       "7         22583      Troy          R     Sara             S       20000.0   \n",
       "8         22584    Meagan        NaN    Lopez             S       20000.0   \n",
       "11        22587      Gina          C   Alonso             S       20000.0   \n",
       "12        22588    Teresa          D   Martin             S       20000.0   \n",
       "13        22589   Cynthia        NaN     Suri             S       20000.0   \n",
       "\n",
       "   EnglishEducation  \n",
       "2       High School  \n",
       "3       High School  \n",
       "4       High School  \n",
       "7   Partial College  \n",
       "8   Partial College  \n",
       "11  Partial College  \n",
       "12  Partial College  \n",
       "13  Partial College  "
      ]
     },
     "execution_count": 6,
     "metadata": {},
     "output_type": "execute_result"
    }
   ],
   "source": [
    "wantedColumns = ['CustomerKey','FirstName','MiddleName','LastName','MaritalStatus','YearlyIncome','EnglishEducation']\n",
    "Df_Python_ProjectSelectLetterI = df[df['EnglishEducation'].str.contains('i') == True][wantedColumns]\n",
    "Df_Python_ProjectSelectLetterI.head(8)"
   ]
  },
  {
   "cell_type": "markdown",
   "metadata": {},
   "source": [
    "## 4.03 Order By (& Selection & Projection) in both SQL and in Python"
   ]
  },
  {
   "cell_type": "markdown",
   "metadata": {},
   "source": [
    "SQL code that sorts rows (ie. Order By) in addition to Selection and Projection is shown below:"
   ]
  },
  {
   "cell_type": "code",
   "execution_count": 34,
   "metadata": {
    "collapsed": true
   },
   "outputs": [],
   "source": [
    "sqlQuery = \"\"\"SELECT CustomerKey, FirstName, MiddleName, LastName, MaritalStatus, YearlyIncome\n",
    "                FROM vTargetMail\n",
    "                WHERE MaritalStatus = 'M' and YearlyIncome > 20000\n",
    "                ORDER BY YearlyIncome, CustomerKey desc\"\"\"\n",
    "Df_SQL_ProjectSelectOrderBy = pd.read_sql(sqlQuery, sql_conn)\n",
    "Df_SQL_ProjectSelectOrderBy.head(8)"
   ]
  },
  {
   "cell_type": "markdown",
   "metadata": {},
   "source": [
    "In Python: Ordering (ie Sorting) is done by an operator that modifies (sorts) an existing dataframe according to one or more parameters, each of which could be Ascending or Descending"
   ]
  },
  {
   "cell_type": "code",
   "execution_count": 7,
   "metadata": {},
   "outputs": [
    {
     "data": {
      "text/html": [
       "<div>\n",
       "<style>\n",
       "    .dataframe thead tr:only-child th {\n",
       "        text-align: right;\n",
       "    }\n",
       "\n",
       "    .dataframe thead th {\n",
       "        text-align: left;\n",
       "    }\n",
       "\n",
       "    .dataframe tbody tr th {\n",
       "        vertical-align: top;\n",
       "    }\n",
       "</style>\n",
       "<table border=\"1\" class=\"dataframe\">\n",
       "  <thead>\n",
       "    <tr style=\"text-align: right;\">\n",
       "      <th></th>\n",
       "      <th>CustomerKey</th>\n",
       "      <th>FirstName</th>\n",
       "      <th>MiddleName</th>\n",
       "      <th>LastName</th>\n",
       "      <th>MaritalStatus</th>\n",
       "      <th>YearlyIncome</th>\n",
       "    </tr>\n",
       "  </thead>\n",
       "  <tbody>\n",
       "    <tr>\n",
       "      <th>18483</th>\n",
       "      <td>29483</td>\n",
       "      <td>Jésus</td>\n",
       "      <td>L</td>\n",
       "      <td>Navarro</td>\n",
       "      <td>M</td>\n",
       "      <td>30000.0</td>\n",
       "    </tr>\n",
       "    <tr>\n",
       "      <th>18482</th>\n",
       "      <td>29482</td>\n",
       "      <td>Clayton</td>\n",
       "      <td>NaN</td>\n",
       "      <td>Zhang</td>\n",
       "      <td>M</td>\n",
       "      <td>30000.0</td>\n",
       "    </tr>\n",
       "    <tr>\n",
       "      <th>18479</th>\n",
       "      <td>29479</td>\n",
       "      <td>Tommy</td>\n",
       "      <td>L</td>\n",
       "      <td>Tang</td>\n",
       "      <td>M</td>\n",
       "      <td>30000.0</td>\n",
       "    </tr>\n",
       "    <tr>\n",
       "      <th>18469</th>\n",
       "      <td>29469</td>\n",
       "      <td>Dominique</td>\n",
       "      <td>M</td>\n",
       "      <td>Saunders</td>\n",
       "      <td>M</td>\n",
       "      <td>30000.0</td>\n",
       "    </tr>\n",
       "    <tr>\n",
       "      <th>18468</th>\n",
       "      <td>29468</td>\n",
       "      <td>Jacqueline</td>\n",
       "      <td>H</td>\n",
       "      <td>Morris</td>\n",
       "      <td>M</td>\n",
       "      <td>30000.0</td>\n",
       "    </tr>\n",
       "    <tr>\n",
       "      <th>18467</th>\n",
       "      <td>29467</td>\n",
       "      <td>Monica</td>\n",
       "      <td>J</td>\n",
       "      <td>Mehta</td>\n",
       "      <td>M</td>\n",
       "      <td>30000.0</td>\n",
       "    </tr>\n",
       "    <tr>\n",
       "      <th>18466</th>\n",
       "      <td>29466</td>\n",
       "      <td>Lance</td>\n",
       "      <td>NaN</td>\n",
       "      <td>Jimenez</td>\n",
       "      <td>M</td>\n",
       "      <td>30000.0</td>\n",
       "    </tr>\n",
       "    <tr>\n",
       "      <th>18413</th>\n",
       "      <td>29413</td>\n",
       "      <td>Arthur</td>\n",
       "      <td>T</td>\n",
       "      <td>Garcia</td>\n",
       "      <td>M</td>\n",
       "      <td>30000.0</td>\n",
       "    </tr>\n",
       "  </tbody>\n",
       "</table>\n",
       "</div>"
      ],
      "text/plain": [
       "       CustomerKey   FirstName MiddleName  LastName MaritalStatus  \\\n",
       "18483        29483       Jésus          L   Navarro             M   \n",
       "18482        29482     Clayton        NaN     Zhang             M   \n",
       "18479        29479       Tommy          L      Tang             M   \n",
       "18469        29469   Dominique          M  Saunders             M   \n",
       "18468        29468  Jacqueline          H    Morris             M   \n",
       "18467        29467      Monica          J     Mehta             M   \n",
       "18466        29466       Lance        NaN   Jimenez             M   \n",
       "18413        29413      Arthur          T    Garcia             M   \n",
       "\n",
       "       YearlyIncome  \n",
       "18483       30000.0  \n",
       "18482       30000.0  \n",
       "18479       30000.0  \n",
       "18469       30000.0  \n",
       "18468       30000.0  \n",
       "18467       30000.0  \n",
       "18466       30000.0  \n",
       "18413       30000.0  "
      ]
     },
     "execution_count": 7,
     "metadata": {},
     "output_type": "execute_result"
    }
   ],
   "source": [
    "Df_Python_ProjectOrderBy = df[(df.YearlyIncome>20000) & (df.MaritalStatus == 'M')].sort_values(by = ['YearlyIncome','CustomerKey'], ascending=[True,False])\n",
    "Df_Python_ProjectSelectOrderBy = Df_Python_ProjectOrderBy[['CustomerKey','FirstName','MiddleName','LastName','MaritalStatus','YearlyIncome']]\n",
    "Df_Python_ProjectSelectOrderBy.head(8)"
   ]
  },
  {
   "cell_type": "markdown",
   "metadata": {},
   "source": [
    "## 4.04 Union: In both SQL and in Python"
   ]
  },
  {
   "cell_type": "markdown",
   "metadata": {},
   "source": [
    "Union is a operator that creates a new table (or dataframe) by combining all of the rows in one table (dataframe) with all of the rows in another table (dataframe).  The respectively-positioned columns within each table (dataframe) should be of the same data-type."
   ]
  },
  {
   "cell_type": "markdown",
   "metadata": {},
   "source": [
    "Before SQL Union: Give first name, middle name, last name and yearly income of MALE single bike buyers"
   ]
  },
  {
   "cell_type": "code",
   "execution_count": 13,
   "metadata": {
    "collapsed": true
   },
   "outputs": [],
   "source": [
    "sqlQuery = \"\"\"SELECT FirstName,MiddleName,LastName,YearlyIncome\n",
    "                FROM vTargetMail\n",
    "                WHERE BikeBuyer = 1 AND MaritalStatus = 'S' AND Gender = 'M'\n",
    "                Order by LastName\"\"\"\n",
    "Df_SQL_Male = pd.read_sql(sqlQuery, sql_conn)\n",
    "Df_SQL_Male.head(8)"
   ]
  },
  {
   "cell_type": "markdown",
   "metadata": {},
   "source": [
    "Before SQL Union: Give first name, middle name, last name and yearly income of FEMALE single bike buyers"
   ]
  },
  {
   "cell_type": "code",
   "execution_count": 12,
   "metadata": {
    "collapsed": true
   },
   "outputs": [],
   "source": [
    "sqlQuery = \"\"\"SELECT FirstName,MiddleName,LastName,YearlyIncome\n",
    "                FROM vTargetMail\n",
    "                WHERE BikeBuyer = 1 AND MaritalStatus = 'S' AND Gender = 'F'\n",
    "                Order by LastName\"\"\"\n",
    "Df_SQL_Female = pd.read_sql(sqlQuery, sql_conn)\n",
    "Df_SQL_Female.head(8)"
   ]
  },
  {
   "cell_type": "markdown",
   "metadata": {},
   "source": [
    "SQL Union: Now, Union the above 2 sets into 1 set: Sort by LastName,FirstName to easily show mix of M and F"
   ]
  },
  {
   "cell_type": "code",
   "execution_count": 15,
   "metadata": {
    "collapsed": true
   },
   "outputs": [],
   "source": [
    "sqlQuery = \"\"\"SELECT FirstName,MiddleName,LastName,YearlyIncome\n",
    "                FROM vTargetMail\n",
    "                WHERE BikeBuyer = 1 AND MaritalStatus = 'S' AND Gender = 'F'\n",
    "                UNION\n",
    "                SELECT FirstName,MiddleName,LastName,YearlyIncome\n",
    "                FROM vTargetMail\n",
    "                WHERE BikeBuyer = 1 AND MaritalStatus = 'S' AND Gender = 'M'\n",
    "                Order by LastName, FirstName\"\"\"\n",
    "Df_SQL_Union = pd.read_sql(sqlQuery, sql_conn)\n",
    "Df_SQL_Union.head(8)"
   ]
  },
  {
   "cell_type": "markdown",
   "metadata": {},
   "source": [
    "## ------------------------------------------------------------------------------------------------"
   ]
  },
  {
   "cell_type": "markdown",
   "metadata": {},
   "source": [
    "Before Python Union: Give first name, middle name, last name and yearly income of MALE single bike buyers"
   ]
  },
  {
   "cell_type": "code",
   "execution_count": 8,
   "metadata": {},
   "outputs": [
    {
     "data": {
      "text/html": [
       "<div>\n",
       "<style>\n",
       "    .dataframe thead tr:only-child th {\n",
       "        text-align: right;\n",
       "    }\n",
       "\n",
       "    .dataframe thead th {\n",
       "        text-align: left;\n",
       "    }\n",
       "\n",
       "    .dataframe tbody tr th {\n",
       "        vertical-align: top;\n",
       "    }\n",
       "</style>\n",
       "<table border=\"1\" class=\"dataframe\">\n",
       "  <thead>\n",
       "    <tr style=\"text-align: right;\">\n",
       "      <th></th>\n",
       "      <th>FirstName</th>\n",
       "      <th>MiddleName</th>\n",
       "      <th>LastName</th>\n",
       "      <th>YearlyIncome</th>\n",
       "    </tr>\n",
       "  </thead>\n",
       "  <tbody>\n",
       "    <tr>\n",
       "      <th>0</th>\n",
       "      <td>Tony</td>\n",
       "      <td>L</td>\n",
       "      <td>Xu</td>\n",
       "      <td>20000.0</td>\n",
       "    </tr>\n",
       "    <tr>\n",
       "      <th>2</th>\n",
       "      <td>Juan</td>\n",
       "      <td>P</td>\n",
       "      <td>Vazquez</td>\n",
       "      <td>10000.0</td>\n",
       "    </tr>\n",
       "    <tr>\n",
       "      <th>7</th>\n",
       "      <td>Troy</td>\n",
       "      <td>R</td>\n",
       "      <td>Sara</td>\n",
       "      <td>20000.0</td>\n",
       "    </tr>\n",
       "    <tr>\n",
       "      <th>9</th>\n",
       "      <td>Kelvin</td>\n",
       "      <td>A</td>\n",
       "      <td>He</td>\n",
       "      <td>30000.0</td>\n",
       "    </tr>\n",
       "    <tr>\n",
       "      <th>15</th>\n",
       "      <td>Jon</td>\n",
       "      <td>G</td>\n",
       "      <td>Becker</td>\n",
       "      <td>30000.0</td>\n",
       "    </tr>\n",
       "    <tr>\n",
       "      <th>17</th>\n",
       "      <td>Thomas</td>\n",
       "      <td>C</td>\n",
       "      <td>Johnson</td>\n",
       "      <td>30000.0</td>\n",
       "    </tr>\n",
       "    <tr>\n",
       "      <th>22</th>\n",
       "      <td>Donald</td>\n",
       "      <td>NaN</td>\n",
       "      <td>Sanchez</td>\n",
       "      <td>30000.0</td>\n",
       "    </tr>\n",
       "    <tr>\n",
       "      <th>24</th>\n",
       "      <td>Maurice</td>\n",
       "      <td>L</td>\n",
       "      <td>Kumar</td>\n",
       "      <td>30000.0</td>\n",
       "    </tr>\n",
       "  </tbody>\n",
       "</table>\n",
       "</div>"
      ],
      "text/plain": [
       "   FirstName MiddleName LastName  YearlyIncome\n",
       "0       Tony          L       Xu       20000.0\n",
       "2       Juan          P  Vazquez       10000.0\n",
       "7       Troy          R     Sara       20000.0\n",
       "9     Kelvin          A       He       30000.0\n",
       "15       Jon          G   Becker       30000.0\n",
       "17    Thomas          C  Johnson       30000.0\n",
       "22    Donald        NaN  Sanchez       30000.0\n",
       "24   Maurice          L    Kumar       30000.0"
      ]
     },
     "execution_count": 8,
     "metadata": {},
     "output_type": "execute_result"
    }
   ],
   "source": [
    "maleSingleBikeBuyers = df[(df.BikeBuyer == 1) & (df.MaritalStatus == 'S') & (df.Gender == 'M')][['FirstName','MiddleName','LastName','YearlyIncome']]\n",
    "maleSingleBikeBuyers.head(8)\n"
   ]
  },
  {
   "cell_type": "markdown",
   "metadata": {},
   "source": [
    "Before Python Union: Give first name, middle name, last name and yearly income of FEMALE single bike buyers"
   ]
  },
  {
   "cell_type": "code",
   "execution_count": 9,
   "metadata": {},
   "outputs": [
    {
     "data": {
      "text/html": [
       "<div>\n",
       "<style>\n",
       "    .dataframe thead tr:only-child th {\n",
       "        text-align: right;\n",
       "    }\n",
       "\n",
       "    .dataframe thead th {\n",
       "        text-align: left;\n",
       "    }\n",
       "\n",
       "    .dataframe tbody tr th {\n",
       "        vertical-align: top;\n",
       "    }\n",
       "</style>\n",
       "<table border=\"1\" class=\"dataframe\">\n",
       "  <thead>\n",
       "    <tr style=\"text-align: right;\">\n",
       "      <th></th>\n",
       "      <th>FirstName</th>\n",
       "      <th>MiddleName</th>\n",
       "      <th>LastName</th>\n",
       "      <th>YearlyIncome</th>\n",
       "    </tr>\n",
       "  </thead>\n",
       "  <tbody>\n",
       "    <tr>\n",
       "      <th>3</th>\n",
       "      <td>Kara</td>\n",
       "      <td>NaN</td>\n",
       "      <td>Lal</td>\n",
       "      <td>10000.0</td>\n",
       "    </tr>\n",
       "    <tr>\n",
       "      <th>4</th>\n",
       "      <td>Alexis</td>\n",
       "      <td>NaN</td>\n",
       "      <td>Long</td>\n",
       "      <td>10000.0</td>\n",
       "    </tr>\n",
       "    <tr>\n",
       "      <th>6</th>\n",
       "      <td>Evelyn</td>\n",
       "      <td>D</td>\n",
       "      <td>Madan</td>\n",
       "      <td>20000.0</td>\n",
       "    </tr>\n",
       "    <tr>\n",
       "      <th>11</th>\n",
       "      <td>Gina</td>\n",
       "      <td>C</td>\n",
       "      <td>Alonso</td>\n",
       "      <td>20000.0</td>\n",
       "    </tr>\n",
       "    <tr>\n",
       "      <th>16</th>\n",
       "      <td>Lindsey</td>\n",
       "      <td>K</td>\n",
       "      <td>Anand</td>\n",
       "      <td>30000.0</td>\n",
       "    </tr>\n",
       "    <tr>\n",
       "      <th>26</th>\n",
       "      <td>Kelli</td>\n",
       "      <td>NaN</td>\n",
       "      <td>Andersen</td>\n",
       "      <td>10000.0</td>\n",
       "    </tr>\n",
       "    <tr>\n",
       "      <th>27</th>\n",
       "      <td>Autumn</td>\n",
       "      <td>NaN</td>\n",
       "      <td>He</td>\n",
       "      <td>10000.0</td>\n",
       "    </tr>\n",
       "    <tr>\n",
       "      <th>31</th>\n",
       "      <td>Whitney</td>\n",
       "      <td>Y</td>\n",
       "      <td>Gonzalez</td>\n",
       "      <td>20000.0</td>\n",
       "    </tr>\n",
       "  </tbody>\n",
       "</table>\n",
       "</div>"
      ],
      "text/plain": [
       "   FirstName MiddleName  LastName  YearlyIncome\n",
       "3       Kara        NaN       Lal       10000.0\n",
       "4     Alexis        NaN      Long       10000.0\n",
       "6     Evelyn          D     Madan       20000.0\n",
       "11      Gina          C    Alonso       20000.0\n",
       "16   Lindsey          K     Anand       30000.0\n",
       "26     Kelli        NaN  Andersen       10000.0\n",
       "27    Autumn        NaN        He       10000.0\n",
       "31   Whitney          Y  Gonzalez       20000.0"
      ]
     },
     "execution_count": 9,
     "metadata": {},
     "output_type": "execute_result"
    }
   ],
   "source": [
    "femaleSingleBikeBuyers = df[(df.BikeBuyer == 1) & (df.MaritalStatus == 'S') & (df.Gender == 'F')][['FirstName','MiddleName','LastName','YearlyIncome']]\n",
    "femaleSingleBikeBuyers.head(8)"
   ]
  },
  {
   "cell_type": "markdown",
   "metadata": {},
   "source": [
    "Python Union: Use Concat to give first name, middle name, last name and yearly income of ALL (Male & Female) single bike buyers"
   ]
  },
  {
   "cell_type": "code",
   "execution_count": 10,
   "metadata": {},
   "outputs": [
    {
     "data": {
      "text/html": [
       "<div>\n",
       "<style>\n",
       "    .dataframe thead tr:only-child th {\n",
       "        text-align: right;\n",
       "    }\n",
       "\n",
       "    .dataframe thead th {\n",
       "        text-align: left;\n",
       "    }\n",
       "\n",
       "    .dataframe tbody tr th {\n",
       "        vertical-align: top;\n",
       "    }\n",
       "</style>\n",
       "<table border=\"1\" class=\"dataframe\">\n",
       "  <thead>\n",
       "    <tr style=\"text-align: right;\">\n",
       "      <th></th>\n",
       "      <th>FirstName</th>\n",
       "      <th>MiddleName</th>\n",
       "      <th>LastName</th>\n",
       "      <th>YearlyIncome</th>\n",
       "    </tr>\n",
       "  </thead>\n",
       "  <tbody>\n",
       "    <tr>\n",
       "      <th>18170</th>\n",
       "      <td>Alexandra</td>\n",
       "      <td>J</td>\n",
       "      <td>Adams</td>\n",
       "      <td>60000.0</td>\n",
       "    </tr>\n",
       "    <tr>\n",
       "      <th>3845</th>\n",
       "      <td>Allison</td>\n",
       "      <td>L</td>\n",
       "      <td>Adams</td>\n",
       "      <td>40000.0</td>\n",
       "    </tr>\n",
       "    <tr>\n",
       "      <th>15746</th>\n",
       "      <td>Amber</td>\n",
       "      <td>NaN</td>\n",
       "      <td>Adams</td>\n",
       "      <td>60000.0</td>\n",
       "    </tr>\n",
       "    <tr>\n",
       "      <th>7561</th>\n",
       "      <td>Andrea</td>\n",
       "      <td>M</td>\n",
       "      <td>Adams</td>\n",
       "      <td>170000.0</td>\n",
       "    </tr>\n",
       "    <tr>\n",
       "      <th>17678</th>\n",
       "      <td>Ben</td>\n",
       "      <td>NaN</td>\n",
       "      <td>Adams</td>\n",
       "      <td>80000.0</td>\n",
       "    </tr>\n",
       "    <tr>\n",
       "      <th>11424</th>\n",
       "      <td>Connor</td>\n",
       "      <td>NaN</td>\n",
       "      <td>Adams</td>\n",
       "      <td>90000.0</td>\n",
       "    </tr>\n",
       "    <tr>\n",
       "      <th>8791</th>\n",
       "      <td>Courtney</td>\n",
       "      <td>C</td>\n",
       "      <td>Adams</td>\n",
       "      <td>70000.0</td>\n",
       "    </tr>\n",
       "    <tr>\n",
       "      <th>3953</th>\n",
       "      <td>Gabriel</td>\n",
       "      <td>S</td>\n",
       "      <td>Adams</td>\n",
       "      <td>50000.0</td>\n",
       "    </tr>\n",
       "  </tbody>\n",
       "</table>\n",
       "</div>"
      ],
      "text/plain": [
       "       FirstName MiddleName LastName  YearlyIncome\n",
       "18170  Alexandra          J    Adams       60000.0\n",
       "3845     Allison          L    Adams       40000.0\n",
       "15746      Amber        NaN    Adams       60000.0\n",
       "7561      Andrea          M    Adams      170000.0\n",
       "17678        Ben        NaN    Adams       80000.0\n",
       "11424     Connor        NaN    Adams       90000.0\n",
       "8791    Courtney          C    Adams       70000.0\n",
       "3953     Gabriel          S    Adams       50000.0"
      ]
     },
     "execution_count": 10,
     "metadata": {},
     "output_type": "execute_result"
    }
   ],
   "source": [
    "singleBikeBuyers = pd.concat([maleSingleBikeBuyers, femaleSingleBikeBuyers]).sort_values(by = ['LastName','FirstName'], ascending=[True,True])\n",
    "singleBikeBuyers.head(8)"
   ]
  },
  {
   "cell_type": "markdown",
   "metadata": {},
   "source": [
    "## 4.05 Group by and Having: In both SQL and in Python"
   ]
  },
  {
   "cell_type": "markdown",
   "metadata": {},
   "source": [
    "In SQL: Using Group By to produce one aggregation of one column (eg. avg of YearlyIncome)"
   ]
  },
  {
   "cell_type": "code",
   "execution_count": 8,
   "metadata": {
    "collapsed": true
   },
   "outputs": [],
   "source": [
    "sqlQuery = \"\"\"SELECT Gender, avg(YearlyIncome)\n",
    "                FROM vTargetMail\n",
    "                GROUP BY Gender\"\"\"\n",
    "Df_SQL_GroupBy = pd.read_sql(sqlQuery, sql_conn)\n",
    "Df_SQL_GroupBy.head(8)"
   ]
  },
  {
   "cell_type": "markdown",
   "metadata": {},
   "source": [
    "In Python: Using groupby to produce one aggregation of one column (eg. mean of YearlyIncome)"
   ]
  },
  {
   "cell_type": "code",
   "execution_count": 11,
   "metadata": {},
   "outputs": [
    {
     "data": {
      "text/html": [
       "<div>\n",
       "<style>\n",
       "    .dataframe thead tr:only-child th {\n",
       "        text-align: right;\n",
       "    }\n",
       "\n",
       "    .dataframe thead th {\n",
       "        text-align: left;\n",
       "    }\n",
       "\n",
       "    .dataframe tbody tr th {\n",
       "        vertical-align: top;\n",
       "    }\n",
       "</style>\n",
       "<table border=\"1\" class=\"dataframe\">\n",
       "  <thead>\n",
       "    <tr style=\"text-align: right;\">\n",
       "      <th></th>\n",
       "      <th>YearlyIncome</th>\n",
       "    </tr>\n",
       "    <tr>\n",
       "      <th>Gender</th>\n",
       "      <th></th>\n",
       "    </tr>\n",
       "  </thead>\n",
       "  <tbody>\n",
       "    <tr>\n",
       "      <th>F</th>\n",
       "      <td>57369.977006</td>\n",
       "    </tr>\n",
       "    <tr>\n",
       "      <th>M</th>\n",
       "      <td>57243.075607</td>\n",
       "    </tr>\n",
       "  </tbody>\n",
       "</table>\n",
       "</div>"
      ],
      "text/plain": [
       "        YearlyIncome\n",
       "Gender              \n",
       "F       57369.977006\n",
       "M       57243.075607"
      ]
     },
     "execution_count": 11,
     "metadata": {},
     "output_type": "execute_result"
    }
   ],
   "source": [
    "Df_Python_GroupBy = df[['Gender','YearlyIncome']].groupby('Gender').mean()\n",
    "Df_Python_GroupBy.head(8)"
   ]
  },
  {
   "cell_type": "markdown",
   "metadata": {},
   "source": [
    "## ------------------------------------------------------------------------------------------------"
   ]
  },
  {
   "cell_type": "markdown",
   "metadata": {},
   "source": [
    "In SQL: Using Having to filter (using avg(YearlyIncome)) the results of \"Group By\": (grouped by English occupation, with two different aggregations on one column)"
   ]
  },
  {
   "cell_type": "code",
   "execution_count": 12,
   "metadata": {
    "collapsed": true
   },
   "outputs": [],
   "source": [
    "sqlQuery = \"\"\"SELECT EnglishOccupation, avg(YearlyIncome) as Avg_Inc, sum(YearlyIncome) as Sum_Inc\n",
    "                FROM vTargetMail\n",
    "                GROUP BY EnglishOccupation\n",
    "                HAVING avg(YearlyIncome)>50000\n",
    "                ORDER BY Sum_Inc desc\"\"\"\n",
    "Df_SQL_GroupBy_Having = pd.read_sql(sqlQuery, sql_conn)\n",
    "Df_SQL_GroupBy_Having.head(8)"
   ]
  },
  {
   "cell_type": "markdown",
   "metadata": {},
   "source": [
    "In Python: Filter (using YearlyIncome['mean']>50000) the results of \"groupby\": (grouped by English occupation, with two different aggregations on one column)"
   ]
  },
  {
   "cell_type": "code",
   "execution_count": 14,
   "metadata": {},
   "outputs": [
    {
     "data": {
      "text/html": [
       "<div>\n",
       "<style>\n",
       "    .dataframe thead tr:only-child th {\n",
       "        text-align: right;\n",
       "    }\n",
       "\n",
       "    .dataframe thead th {\n",
       "        text-align: left;\n",
       "    }\n",
       "\n",
       "    .dataframe tbody tr th {\n",
       "        vertical-align: top;\n",
       "    }\n",
       "</style>\n",
       "<table border=\"1\" class=\"dataframe\">\n",
       "  <thead>\n",
       "    <tr>\n",
       "      <th></th>\n",
       "      <th colspan=\"2\" halign=\"left\">YearlyIncome</th>\n",
       "    </tr>\n",
       "    <tr>\n",
       "      <th></th>\n",
       "      <th>mean</th>\n",
       "      <th>sum</th>\n",
       "    </tr>\n",
       "    <tr>\n",
       "      <th>EnglishOccupation</th>\n",
       "      <th></th>\n",
       "      <th></th>\n",
       "    </tr>\n",
       "  </thead>\n",
       "  <tbody>\n",
       "    <tr>\n",
       "      <th>Management</th>\n",
       "      <td>92325.203252</td>\n",
       "      <td>283900000.0</td>\n",
       "    </tr>\n",
       "    <tr>\n",
       "      <th>Professional</th>\n",
       "      <td>74184.782609</td>\n",
       "      <td>409500000.0</td>\n",
       "    </tr>\n",
       "    <tr>\n",
       "      <th>Skilled Manual</th>\n",
       "      <td>51715.097225</td>\n",
       "      <td>236700000.0</td>\n",
       "    </tr>\n",
       "  </tbody>\n",
       "</table>\n",
       "</div>"
      ],
      "text/plain": [
       "                   YearlyIncome             \n",
       "                           mean          sum\n",
       "EnglishOccupation                           \n",
       "Management         92325.203252  283900000.0\n",
       "Professional       74184.782609  409500000.0\n",
       "Skilled Manual     51715.097225  236700000.0"
      ]
     },
     "execution_count": 14,
     "metadata": {},
     "output_type": "execute_result"
    }
   ],
   "source": [
    "gDf = df.groupby('EnglishOccupation').agg({'YearlyIncome':['mean','sum']})\n",
    "gDf= gDf[gDf.YearlyIncome['mean']>50000]\n",
    "# gDf = gDf.reset_index()                                   #do reset_index to make group-by column accessible as a column\n",
    "# gDf.columns = [\"EnglishOccupation\", \"Avg_Inc\", \"Sum_Inc\"] #rename columns so avg and sum are accesible, simple columns\n",
    "# gDf = grDf.sort_values(by=\"Sum_Inc\", ascending=False)\n",
    "gDf.head(8)      "
   ]
  },
  {
   "cell_type": "markdown",
   "metadata": {},
   "source": [
    "## ------------------------------------------------------------------------------------------------"
   ]
  },
  {
   "cell_type": "markdown",
   "metadata": {},
   "source": [
    "In SQL: Using Having to filter (using avg(Age)>=51) the results of \"Group By\": (grouped by English occupation, with three different aggregations across three different columns)"
   ]
  },
  {
   "cell_type": "code",
   "execution_count": 58,
   "metadata": {
    "collapsed": true
   },
   "outputs": [],
   "source": [
    "sqlQuery = \"\"\"SELECT EnglishOccupation, sum(YearlyIncome) as Sum_Inc, avg(Age) as Avg_Age, count(CustomerKey) as Count_Cust\n",
    "                FROM vTargetMail\n",
    "                GROUP BY EnglishOccupation\n",
    "                HAVING avg(Age)>=51\n",
    "                ORDER BY Sum_Inc desc\"\"\"\n",
    "Df_SQL_GroupBy_Having = pd.read_sql(sqlQuery, sql_conn)\n",
    "Df_SQL_GroupBy_Having.head(8)"
   ]
  },
  {
   "cell_type": "markdown",
   "metadata": {},
   "source": [
    "In Python: Filter (using Age>=51) the results of \"groupby\" aggregation: (grouped by English occupation, with three different aggregations across three different columns)"
   ]
  },
  {
   "cell_type": "code",
   "execution_count": 15,
   "metadata": {},
   "outputs": [
    {
     "data": {
      "text/html": [
       "<div>\n",
       "<style>\n",
       "    .dataframe thead tr:only-child th {\n",
       "        text-align: right;\n",
       "    }\n",
       "\n",
       "    .dataframe thead th {\n",
       "        text-align: left;\n",
       "    }\n",
       "\n",
       "    .dataframe tbody tr th {\n",
       "        vertical-align: top;\n",
       "    }\n",
       "</style>\n",
       "<table border=\"1\" class=\"dataframe\">\n",
       "  <thead>\n",
       "    <tr style=\"text-align: right;\">\n",
       "      <th></th>\n",
       "      <th>EnglishOccupation</th>\n",
       "      <th>YearlyIncome</th>\n",
       "      <th>Age</th>\n",
       "      <th>CustomerKey</th>\n",
       "    </tr>\n",
       "  </thead>\n",
       "  <tbody>\n",
       "    <tr>\n",
       "      <th>2</th>\n",
       "      <td>Professional</td>\n",
       "      <td>409500000.0</td>\n",
       "      <td>55.819384</td>\n",
       "      <td>5520</td>\n",
       "    </tr>\n",
       "    <tr>\n",
       "      <th>1</th>\n",
       "      <td>Management</td>\n",
       "      <td>283900000.0</td>\n",
       "      <td>63.898862</td>\n",
       "      <td>3075</td>\n",
       "    </tr>\n",
       "    <tr>\n",
       "      <th>3</th>\n",
       "      <td>Skilled Manual</td>\n",
       "      <td>236700000.0</td>\n",
       "      <td>51.481538</td>\n",
       "      <td>4577</td>\n",
       "    </tr>\n",
       "    <tr>\n",
       "      <th>0</th>\n",
       "      <td>Clerical</td>\n",
       "      <td>89920000.0</td>\n",
       "      <td>54.446380</td>\n",
       "      <td>2928</td>\n",
       "    </tr>\n",
       "  </tbody>\n",
       "</table>\n",
       "</div>"
      ],
      "text/plain": [
       "  EnglishOccupation  YearlyIncome        Age  CustomerKey\n",
       "2      Professional   409500000.0  55.819384         5520\n",
       "1        Management   283900000.0  63.898862         3075\n",
       "3    Skilled Manual   236700000.0  51.481538         4577\n",
       "0          Clerical    89920000.0  54.446380         2928"
      ]
     },
     "execution_count": 15,
     "metadata": {},
     "output_type": "execute_result"
    }
   ],
   "source": [
    "gDf = df.groupby('EnglishOccupation').agg({'YearlyIncome':np.sum,'Age':np.mean,'CustomerKey':np.size}) #multiple aggregations of multiple columns\n",
    "gDf= gDf[gDf.Age>=51]\n",
    "grDf = gDf.reset_index()                                                      #do reset_index to make group-by column accessible as a column\n",
    "# grDf.columns = [\"EnglishOccupation\", \"Sum_Inc\", \"Avg_Age\",\"Count_Cust\"]     #rename columns so avg and sum are accesible, simple columns\n",
    "grDf = grDf.sort_values(by=\"YearlyIncome\", ascending=False)\n",
    "# grDf = grDf.sort_values(by=\"Sum_Inc\", ascending=False)\n",
    "grDf.head(8)"
   ]
  },
  {
   "cell_type": "markdown",
   "metadata": {},
   "source": [
    "## 4.06 Join: In both SQL and in Python"
   ]
  },
  {
   "cell_type": "markdown",
   "metadata": {},
   "source": [
    "In SQL: Join two tables, keeping only rows where PK=FK (key names need not match). Order-By for readability (not required)"
   ]
  },
  {
   "cell_type": "code",
   "execution_count": 90,
   "metadata": {
    "collapsed": true
   },
   "outputs": [],
   "source": [
    "# Two alternative formats for SQL join are shown below ... \n",
    "# sqlQuery = \"\"\"\n",
    "#     SELECT TM.CustomerKey, Tm.FirstName, Tm.MiddleName, Tm.LastName, Tm.AddressLine1, \n",
    "#            Dg.City, Dg.StateProvinceName, Dg.PostalCode\n",
    "#     FROM DimGeography Dg, vTargetMail Tm\n",
    "#     WHERE Dg.GeographyKey = Tm.GeographyKey\n",
    "#     ORDER BY TM.CustomerKey desc\n",
    "#     \"\"\"\n",
    "sqlQuery = \"\"\"\n",
    "    SELECT TM.CustomerKey, Tm.FirstName, Tm.MiddleName, Tm.LastName, Tm.AddressLine1, \n",
    "           Dg.City, Dg.StateProvinceName, Dg.PostalCode\n",
    "    FROM DimGeography Dg JOIN vTargetMail Tm\n",
    "       ON Dg.GeographyKey = Tm.GeographyKey\n",
    "    ORDER BY TM.CustomerKey desc\n",
    "    \"\"\"\n",
    "JoinedDf = pd.read_sql(sqlQuery, sql_conn)\n",
    "JoinedDf.head(8)"
   ]
  },
  {
   "cell_type": "markdown",
   "metadata": {},
   "source": [
    "In Python: Use \"Merge\" operation to join two Dataframes on \"shared\" (must be identically named) columns"
   ]
  },
  {
   "cell_type": "markdown",
   "metadata": {},
   "source": [
    "First, (use SQL to) Create a separate dataframe from the \"other\" table (merge of GeoDf to df will be done later...) "
   ]
  },
  {
   "cell_type": "code",
   "execution_count": 87,
   "metadata": {
    "collapsed": true
   },
   "outputs": [],
   "source": [
    "sqlQuery = \"\"\"select * from DimGeography\"\"\"\n",
    "GeoDf =  pd.read_sql(sqlQuery, sql_conn)\n",
    "GeoDf.head(8)"
   ]
  },
  {
   "cell_type": "markdown",
   "metadata": {},
   "source": [
    "Then, use \"merge\" to \"join\" df to GeoDf on GeographyKey (ie,df.FK=GeoDf.PK). Sort for readability (not required)"
   ]
  },
  {
   "cell_type": "code",
   "execution_count": 18,
   "metadata": {
    "scrolled": true
   },
   "outputs": [],
   "source": [
    "MergedJoinedDf = pd.merge(df, GeoDf, on='GeographyKey')\n",
    "MergedJoinedDf = MergedJoinedDf[['CustomerKey','FirstName','MiddleName','LastName','AddressLine1','City','StateProvinceName','PostalCode']]\n",
    "MergedJoinedDf = MergedJoinedDf.sort_values(by=\"CustomerKey\", ascending=False)\n",
    "MergedJoinedDf.head(8)"
   ]
  }
 ],
 "metadata": {
  "kernelspec": {
   "display_name": "Python 3",
   "language": "python",
   "name": "python3"
  },
  "language_info": {
   "codemirror_mode": {
    "name": "ipython",
    "version": 3
   },
   "file_extension": ".py",
   "mimetype": "text/x-python",
   "name": "python",
   "nbconvert_exporter": "python",
   "pygments_lexer": "ipython3",
   "version": "3.6.2"
  }
 },
 "nbformat": 4,
 "nbformat_minor": 2
}
